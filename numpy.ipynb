{
 "cells": [
  {
   "cell_type": "markdown",
   "id": "b929167f-ecdf-4568-a87b-91827010395f",
   "metadata": {},
   "source": [
    "# Numpy "
   ]
  },
  {
   "cell_type": "code",
   "execution_count": 1,
   "id": "a832d766-c5ee-415c-9706-71d567577fe4",
   "metadata": {},
   "outputs": [],
   "source": [
    "import numpy as np "
   ]
  },
  {
   "cell_type": "markdown",
   "id": "f988b017-3544-4236-9b05-95add80805ce",
   "metadata": {},
   "source": [
    "## Creating Arrays from Scratch"
   ]
  },
  {
   "cell_type": "code",
   "execution_count": 2,
   "id": "304d41ef-de04-46c3-a119-aa1feb320c9c",
   "metadata": {},
   "outputs": [
    {
     "name": "stdout",
     "output_type": "stream",
     "text": [
      "integer array: [1 2 3 4 5 7] \n",
      "\n",
      "float array: [1. 2. 3. 4. 5. 7.] \n",
      "\n"
     ]
    }
   ],
   "source": [
    "print('integer array:', np.array([1,2,3,4,5,7]),'\\n')\n",
    "print('float array:', np.array([1,2,3,4,5,7],dtype='float'),'\\n')"
   ]
  },
  {
   "cell_type": "code",
   "execution_count": 3,
   "id": "e206ef98-7b4e-4466-9bca-0230ff17b884",
   "metadata": {},
   "outputs": [
    {
     "data": {
      "text/plain": [
       "array([0, 0, 0, 0, 0, 0, 0, 0, 0, 0])"
      ]
     },
     "execution_count": 3,
     "metadata": {},
     "output_type": "execute_result"
    }
   ],
   "source": [
    "np.zeros(10,dtype=int) # create a length inter array fied with zero"
   ]
  },
  {
   "cell_type": "code",
   "execution_count": 4,
   "id": "8622e18e-e42d-4476-ba30-5b46e1931348",
   "metadata": {},
   "outputs": [
    {
     "data": {
      "text/plain": [
       "array([[1., 1., 1., 1.],\n",
       "       [1., 1., 1., 1.],\n",
       "       [1., 1., 1., 1.]])"
      ]
     },
     "execution_count": 4,
     "metadata": {},
     "output_type": "execute_result"
    }
   ],
   "source": [
    "np.ones((3,4),dtype=float) # create a 3x4 floating point array filed with one"
   ]
  },
  {
   "cell_type": "code",
   "execution_count": 5,
   "id": "81f752ba-f666-4037-a617-cf04767492fe",
   "metadata": {},
   "outputs": [
    {
     "data": {
      "text/plain": [
       "array([[3.14, 3.14, 3.14, 3.14],\n",
       "       [3.14, 3.14, 3.14, 3.14],\n",
       "       [3.14, 3.14, 3.14, 3.14]])"
      ]
     },
     "execution_count": 5,
     "metadata": {},
     "output_type": "execute_result"
    }
   ],
   "source": [
    "np.full((3,4), 3.14) #create a 3x5 array filled with 3.14"
   ]
  },
  {
   "cell_type": "code",
   "execution_count": 6,
   "id": "78145ed9-4951-4827-adbc-0922c44305c6",
   "metadata": {},
   "outputs": [
    {
     "data": {
      "text/plain": [
       "array([ 0,  2,  4,  6,  8, 10, 12, 14, 16, 18])"
      ]
     },
     "execution_count": 6,
     "metadata": {},
     "output_type": "execute_result"
    }
   ],
   "source": [
    "# create a linear sequence array \n",
    "np.arange(0,20,2)"
   ]
  },
  {
   "cell_type": "code",
   "execution_count": 7,
   "id": "53ad9843-96b7-4a95-9ee8-c7a0571f4613",
   "metadata": {},
   "outputs": [
    {
     "data": {
      "text/plain": [
       "array([0.  , 0.25, 0.5 , 0.75, 1.  ])"
      ]
     },
     "execution_count": 7,
     "metadata": {},
     "output_type": "execute_result"
    }
   ],
   "source": [
    "# create an array of five values evenly spaced between 0 and 1\n",
    "np.linspace(0,1,5)"
   ]
  },
  {
   "cell_type": "code",
   "execution_count": 8,
   "id": "6ce2a8b1-ca41-4f26-ab04-57cb3996350d",
   "metadata": {},
   "outputs": [
    {
     "data": {
      "text/plain": [
       "array([[0.47932054, 0.54767454, 0.76701904],\n",
       "       [0.53522326, 0.15090077, 0.3390169 ],\n",
       "       [0.75652043, 0.63792585, 0.65813632]])"
      ]
     },
     "execution_count": 8,
     "metadata": {},
     "output_type": "execute_result"
    }
   ],
   "source": [
    "# create a random number using uniform distribution of 3x3\n",
    "np.random.random((3,3))"
   ]
  },
  {
   "cell_type": "code",
   "execution_count": 9,
   "id": "ca590a88-1fc3-4380-b0c0-e7e701ca0ee7",
   "metadata": {},
   "outputs": [
    {
     "data": {
      "text/plain": [
       "array([[-0.49705019, -0.1783113 , -0.35720514],\n",
       "       [ 2.40821381,  0.2445859 , -1.75346458],\n",
       "       [-0.86550434,  1.28953373,  0.65193426]])"
      ]
     },
     "execution_count": 9,
     "metadata": {},
     "output_type": "execute_result"
    }
   ],
   "source": [
    "# create a random number using normal distribution of 3x3\n",
    "np.random.normal(0,1,(3,3))"
   ]
  },
  {
   "cell_type": "code",
   "execution_count": 10,
   "id": "3f143c25-890b-469e-957a-4d79911876ca",
   "metadata": {},
   "outputs": [
    {
     "data": {
      "text/plain": [
       "array([[9, 3, 0],\n",
       "       [9, 8, 3],\n",
       "       [0, 4, 0]])"
      ]
     },
     "execution_count": 10,
     "metadata": {},
     "output_type": "execute_result"
    }
   ],
   "source": [
    "# Create a 3x3 array of random integers in the interval [0, 10)\n",
    "np.random.randint(0,10,(3,3))"
   ]
  },
  {
   "cell_type": "code",
   "execution_count": 11,
   "id": "4981f486-d665-4582-88d6-d16dd8434cd8",
   "metadata": {},
   "outputs": [
    {
     "data": {
      "text/plain": [
       "array([[1., 0., 0.],\n",
       "       [0., 1., 0.],\n",
       "       [0., 0., 1.]])"
      ]
     },
     "execution_count": 11,
     "metadata": {},
     "output_type": "execute_result"
    }
   ],
   "source": [
    "# Create a 3x3 identity matrix\n",
    "np.eye(3)"
   ]
  },
  {
   "cell_type": "code",
   "execution_count": 12,
   "id": "8af11039-4eff-40d8-9a80-5c6415e217cf",
   "metadata": {},
   "outputs": [
    {
     "data": {
      "text/plain": [
       "array([1., 1., 1.])"
      ]
     },
     "execution_count": 12,
     "metadata": {},
     "output_type": "execute_result"
    }
   ],
   "source": [
    " # Create an uninitialized array of three integers\n",
    " # The values will be whatever happens to already exist at that\n",
    " # memory location\n",
    "np.empty(3)"
   ]
  },
  {
   "cell_type": "markdown",
   "id": "64d0d43c-24a4-4f8c-90fa-642914fc70ce",
   "metadata": {},
   "source": [
    "## NumPy Array Attributes"
   ]
  },
  {
   "cell_type": "code",
   "execution_count": 13,
   "id": "806f1523-6b32-45b9-b490-f271decd4835",
   "metadata": {},
   "outputs": [
    {
     "name": "stdout",
     "output_type": "stream",
     "text": [
      "x1: [5 0 3 3 7 9] \n",
      "\n",
      "x2: [[3 5 2 4]\n",
      " [7 6 8 8]\n",
      " [1 6 7 7]] \n",
      "\n",
      "x3: [[[8 1 5 9 8]\n",
      "  [9 4 3 0 3]\n",
      "  [5 0 2 3 8]\n",
      "  [1 3 3 3 7]]\n",
      "\n",
      " [[0 1 9 9 0]\n",
      "  [4 7 3 2 7]\n",
      "  [2 0 0 4 5]\n",
      "  [5 6 8 4 1]]\n",
      "\n",
      " [[4 9 8 1 1]\n",
      "  [7 9 9 3 6]\n",
      "  [7 2 0 3 5]\n",
      "  [9 4 4 6 4]]] \n",
      "\n"
     ]
    }
   ],
   "source": [
    " np.random.seed(0) # seed for reproducibility\n",
    " x1 = np.random.randint(10, size=6) # One-dimensional array\n",
    " x2 = np.random.randint(10, size=(3, 4)) # Two-dimensional array\n",
    " x3 = np.random.randint(10, size=(3, 4, 5)) # Three-dimensional array\n",
    "print('x1:',x1,'\\n')\n",
    "print('x2:',x2,'\\n')\n",
    "print('x3:',x3,'\\n')"
   ]
  },
  {
   "cell_type": "code",
   "execution_count": 14,
   "id": "d30eb1d4-23b9-4e63-b1ea-f86cf7f47605",
   "metadata": {},
   "outputs": [
    {
     "name": "stdout",
     "output_type": "stream",
     "text": [
      "x3 ndim:  3\n",
      "x3 shape: (3, 4, 5)\n",
      "x3 size:  60\n"
     ]
    }
   ],
   "source": [
    "print(\"x3 ndim: \", x3.ndim)\n",
    "print(\"x3 shape:\", x3.shape)\n",
    "print(\"x3 size: \", x3.size)\n"
   ]
  },
  {
   "cell_type": "markdown",
   "id": "ab3080c4-efa4-4949-9d86-27a72714e65a",
   "metadata": {},
   "source": [
    "## numpy array manipulation\n",
    "#### change shape"
   ]
  },
  {
   "cell_type": "code",
   "execution_count": 15,
   "id": "8def9fff-4d7b-4530-84bb-97e8255a1607",
   "metadata": {},
   "outputs": [
    {
     "name": "stdout",
     "output_type": "stream",
     "text": [
      "original array\n",
      "[0 1 2 3 4 5 6 7 8]\n",
      "modify array\n",
      "[[0 1 2]\n",
      " [3 4 5]\n",
      " [6 7 8]]\n",
      "to original  considering the order\n",
      "[0 1 2 3 4 5 6 7 8]\n",
      "to original without considering the order\n",
      "[0 3 6 1 4 7 2 5 8]\n"
     ]
    }
   ],
   "source": [
    "a=np.arange(9)\n",
    "print(\"original array\")\n",
    "print(a)\n",
    "b=a.reshape(3,3)\n",
    "print(\"modify array\")\n",
    "print(b)\n",
    "print(\"to original  considering the order\")\n",
    "print(b.flatten()) # back to original order.\n",
    "print(\"to original without considering the order\")\n",
    "print(b.flatten(order =\"F\"))"
   ]
  },
  {
   "cell_type": "markdown",
   "id": "0bca2b4e-76de-4c25-b942-9123e2fff6cd",
   "metadata": {},
   "source": [
    "#### transpose"
   ]
  },
  {
   "cell_type": "code",
   "execution_count": 16,
   "id": "ca0c2cbc-50d2-4e8c-81e7-d4fe8f76e350",
   "metadata": {},
   "outputs": [
    {
     "data": {
      "text/plain": [
       "array([[ 0,  1,  2],\n",
       "       [ 3,  4,  5],\n",
       "       [ 6,  7,  8],\n",
       "       [ 9, 10, 11]])"
      ]
     },
     "execution_count": 16,
     "metadata": {},
     "output_type": "execute_result"
    }
   ],
   "source": [
    "a=np.arange(12).reshape(4,3)\n",
    "a"
   ]
  },
  {
   "cell_type": "code",
   "execution_count": 17,
   "id": "35558bd7-9174-4f63-851b-6ba6564f0341",
   "metadata": {},
   "outputs": [
    {
     "name": "stdout",
     "output_type": "stream",
     "text": [
      "[[ 0  3  6  9]\n",
      " [ 1  4  7 10]\n",
      " [ 2  5  8 11]]\n"
     ]
    }
   ],
   "source": [
    "b=np.transpose(a)\n",
    "print(b)"
   ]
  },
  {
   "cell_type": "markdown",
   "id": "9aecbda4-761c-4cd9-ad93-1ca2eb2c3bca",
   "metadata": {},
   "source": [
    "####  roll axis  and swapaxes"
   ]
  },
  {
   "cell_type": "code",
   "execution_count": 18,
   "id": "7dd1a0e7-3134-41b3-8811-6e89c06d3ace",
   "metadata": {},
   "outputs": [
    {
     "data": {
      "text/plain": [
       "array([[[0, 1],\n",
       "        [2, 3]],\n",
       "\n",
       "       [[4, 5],\n",
       "        [6, 7]]])"
      ]
     },
     "execution_count": 18,
     "metadata": {},
     "output_type": "execute_result"
    }
   ],
   "source": [
    "b=np.arange(8).reshape(2,4)\n",
    "c=b.reshape(2,2,2)\n",
    "c"
   ]
  },
  {
   "cell_type": "code",
   "execution_count": 19,
   "id": "7c107c06-e2ab-43fa-8147-ec6f4d3c721b",
   "metadata": {},
   "outputs": [
    {
     "data": {
      "text/plain": [
       "array([[[0, 2],\n",
       "        [1, 3]],\n",
       "\n",
       "       [[4, 6],\n",
       "        [5, 7]]])"
      ]
     },
     "execution_count": 19,
     "metadata": {},
     "output_type": "execute_result"
    }
   ],
   "source": [
    "np.rollaxis(c,2,1)"
   ]
  },
  {
   "cell_type": "code",
   "execution_count": 20,
   "id": "ed0535cd-430d-4044-b40f-b3fd1039efcc",
   "metadata": {},
   "outputs": [
    {
     "data": {
      "text/plain": [
       "array([[[0, 2],\n",
       "        [1, 3]],\n",
       "\n",
       "       [[4, 6],\n",
       "        [5, 7]]])"
      ]
     },
     "execution_count": 20,
     "metadata": {},
     "output_type": "execute_result"
    }
   ],
   "source": [
    "np.swapaxes(c,2,1)"
   ]
  },
  {
   "cell_type": "markdown",
   "id": "51d9d454-b451-42d3-866f-fd81e581073d",
   "metadata": {},
   "source": [
    "## numpy arithematic operation"
   ]
  },
  {
   "cell_type": "code",
   "execution_count": 21,
   "id": "f5f640da-3a4a-445d-a1a7-581d6a736ffc",
   "metadata": {},
   "outputs": [],
   "source": [
    "a=np.arange(9).reshape(3,3)\n",
    "b=np.array([10,10,10])"
   ]
  },
  {
   "cell_type": "markdown",
   "id": "aac61594-517c-48d3-aa4f-eb2f1689882d",
   "metadata": {},
   "source": [
    "#### addiction"
   ]
  },
  {
   "cell_type": "code",
   "execution_count": 22,
   "id": "479e306e-1e75-4196-a5e1-0329638215fa",
   "metadata": {},
   "outputs": [
    {
     "data": {
      "text/plain": [
       "array([[10, 11, 12],\n",
       "       [13, 14, 15],\n",
       "       [16, 17, 18]])"
      ]
     },
     "execution_count": 22,
     "metadata": {},
     "output_type": "execute_result"
    }
   ],
   "source": [
    "np.add(a,b)"
   ]
  },
  {
   "cell_type": "markdown",
   "id": "babe8f72-fc64-44d8-94a7-256e303ff6bd",
   "metadata": {},
   "source": [
    "#### subtraction"
   ]
  },
  {
   "cell_type": "code",
   "execution_count": 23,
   "id": "fc6b8c3d-9629-4f74-80e1-1f3d4b469451",
   "metadata": {},
   "outputs": [
    {
     "data": {
      "text/plain": [
       "array([[-10,  -9,  -8],\n",
       "       [ -7,  -6,  -5],\n",
       "       [ -4,  -3,  -2]])"
      ]
     },
     "execution_count": 23,
     "metadata": {},
     "output_type": "execute_result"
    }
   ],
   "source": [
    "np.subtract(a,b)"
   ]
  },
  {
   "cell_type": "markdown",
   "id": "8654c2ae-ad8d-4a91-987f-ded2599b08b2",
   "metadata": {},
   "source": [
    "#### multiply"
   ]
  },
  {
   "cell_type": "code",
   "execution_count": 24,
   "id": "d54717e1-5186-4967-980a-e3c00ce2e99d",
   "metadata": {},
   "outputs": [
    {
     "data": {
      "text/plain": [
       "array([[ 0, 10, 20],\n",
       "       [30, 40, 50],\n",
       "       [60, 70, 80]])"
      ]
     },
     "execution_count": 24,
     "metadata": {},
     "output_type": "execute_result"
    }
   ],
   "source": [
    "np.multiply(a,b)"
   ]
  },
  {
   "cell_type": "markdown",
   "id": "f6026b28-a330-491f-af23-e14b8f1ce918",
   "metadata": {},
   "source": [
    "#### Divide"
   ]
  },
  {
   "cell_type": "code",
   "execution_count": 25,
   "id": "6d912f04-a045-4de0-bf9d-3027c44f7665",
   "metadata": {},
   "outputs": [
    {
     "data": {
      "text/plain": [
       "array([[0. , 0.1, 0.2],\n",
       "       [0.3, 0.4, 0.5],\n",
       "       [0.6, 0.7, 0.8]])"
      ]
     },
     "execution_count": 25,
     "metadata": {},
     "output_type": "execute_result"
    }
   ],
   "source": [
    "np.divide(a,b)"
   ]
  },
  {
   "cell_type": "markdown",
   "id": "e911c951-8348-436b-9250-ecd52e1b2385",
   "metadata": {},
   "source": [
    "#### modulus"
   ]
  },
  {
   "cell_type": "code",
   "execution_count": 26,
   "id": "7e0483a2-580c-4889-b956-8bb73e4876ef",
   "metadata": {},
   "outputs": [
    {
     "data": {
      "text/plain": [
       "array([[0, 1, 2],\n",
       "       [3, 4, 5],\n",
       "       [6, 7, 8]])"
      ]
     },
     "execution_count": 26,
     "metadata": {},
     "output_type": "execute_result"
    }
   ],
   "source": [
    "np.mod(a,b)"
   ]
  },
  {
   "cell_type": "markdown",
   "id": "cfe1e860-fe47-4182-9ccb-a2dc76a2fce8",
   "metadata": {},
   "source": [
    "## slicing /Array Indexing: Accessing Single Elements"
   ]
  },
  {
   "cell_type": "markdown",
   "id": "942309c9-4854-4b28-81fe-fa0978a9b0f7",
   "metadata": {},
   "source": [
    "### one dimensional subarrays"
   ]
  },
  {
   "cell_type": "code",
   "execution_count": 27,
   "id": "d56e7d70-61d7-45f6-8974-f01058caf11f",
   "metadata": {},
   "outputs": [
    {
     "data": {
      "text/plain": [
       "array([ 0,  1,  2,  3,  4,  5,  6,  7,  8,  9, 10, 11, 12, 13, 14, 15, 16,\n",
       "       17, 18, 19])"
      ]
     },
     "execution_count": 27,
     "metadata": {},
     "output_type": "execute_result"
    }
   ],
   "source": [
    "# subsetting part of the elements \n",
    "a=np.arange(20)\n",
    "a"
   ]
  },
  {
   "cell_type": "code",
   "execution_count": 28,
   "id": "fb4688fe-4421-4c80-a3da-63a0b01dc529",
   "metadata": {},
   "outputs": [
    {
     "data": {
      "text/plain": [
       "array([ 4,  5,  6,  7,  8,  9, 10, 11, 12, 13, 14, 15, 16, 17, 18, 19])"
      ]
     },
     "execution_count": 28,
     "metadata": {},
     "output_type": "execute_result"
    }
   ],
   "source": [
    "a[4:] # from index 4 onwards"
   ]
  },
  {
   "cell_type": "code",
   "execution_count": 29,
   "id": "8524137f-8b1e-4131-bc38-98f8a7d12797",
   "metadata": {},
   "outputs": [
    {
     "data": {
      "text/plain": [
       "array([0, 1, 2, 3])"
      ]
     },
     "execution_count": 29,
     "metadata": {},
     "output_type": "execute_result"
    }
   ],
   "source": [
    "a[:4] # from index 4 bacwards"
   ]
  },
  {
   "cell_type": "code",
   "execution_count": 30,
   "id": "2c27cd0d-72b4-4f13-acdd-7a45c68dd736",
   "metadata": {},
   "outputs": [
    {
     "data": {
      "text/plain": [
       "4"
      ]
     },
     "execution_count": 30,
     "metadata": {},
     "output_type": "execute_result"
    }
   ],
   "source": [
    "a[4]"
   ]
  },
  {
   "cell_type": "code",
   "execution_count": 31,
   "id": "e1489ac0-b57d-4ec1-a268-692723588f69",
   "metadata": {},
   "outputs": [
    {
     "data": {
      "text/plain": [
       "array([2, 4, 6, 8])"
      ]
     },
     "execution_count": 31,
     "metadata": {},
     "output_type": "execute_result"
    }
   ],
   "source": [
    "s=slice(2,9,2) #slice with interval of two\n",
    "a[s]"
   ]
  },
  {
   "cell_type": "code",
   "execution_count": 32,
   "id": "da1a5c05-b65a-4343-8ba8-b76cf2c0eaee",
   "metadata": {},
   "outputs": [
    {
     "name": "stdout",
     "output_type": "stream",
     "text": [
      "original array; [0 1 2 3 4 5 6 7 8 9] \n",
      "\n",
      "evrey other element; [0 2 4 6 8] \n",
      "\n",
      "evrey other element starting at index 1; [1 3 5 7 9] \n",
      "\n",
      "all element reverse; [5 3 1] \n",
      "\n",
      "reverse every other from index 5; [9 8 7 6 5 4 3 2 1 0] \n",
      "\n"
     ]
    }
   ],
   "source": [
    "#x[start:stop:step]\n",
    "x=np.arange(10)\n",
    "print('original array;',x,'\\n')\n",
    "print('evrey other element;',x[::2],'\\n')\n",
    "print('evrey other element starting at index 1;',x[1::2],'\\n')\n",
    "print('all element reverse;',x[5::-2],'\\n')\n",
    "print('reverse every other from index 5;',x[::-1],'\\n')"
   ]
  },
  {
   "cell_type": "markdown",
   "id": "7d08c8da-4022-43ab-8607-5d7427d4c38a",
   "metadata": {},
   "source": [
    "### Multidimensional subarrays"
   ]
  },
  {
   "cell_type": "code",
   "execution_count": 33,
   "id": "76017ba4-729a-4301-ba8f-2c915045d4e5",
   "metadata": {},
   "outputs": [
    {
     "data": {
      "text/plain": [
       "array([[4, 3, 4, 4],\n",
       "       [8, 4, 3, 7],\n",
       "       [5, 5, 0, 1]])"
      ]
     },
     "execution_count": 33,
     "metadata": {},
     "output_type": "execute_result"
    }
   ],
   "source": [
    "x2 = np.random.randint(10, size=(3, 4))\n",
    "x2"
   ]
  },
  {
   "cell_type": "code",
   "execution_count": 34,
   "id": "55bfe235-6564-4521-bd5b-ff4926708f8b",
   "metadata": {},
   "outputs": [
    {
     "data": {
      "text/plain": [
       "array([[4, 3, 4],\n",
       "       [8, 4, 3]])"
      ]
     },
     "execution_count": 34,
     "metadata": {},
     "output_type": "execute_result"
    }
   ],
   "source": [
    "x2[:2, :3] # two rows, three columns"
   ]
  },
  {
   "cell_type": "code",
   "execution_count": 35,
   "id": "856c1cff-962e-4d2a-b402-6fc83623830e",
   "metadata": {},
   "outputs": [
    {
     "data": {
      "text/plain": [
       "array([[4, 4],\n",
       "       [8, 3],\n",
       "       [5, 0]])"
      ]
     },
     "execution_count": 35,
     "metadata": {},
     "output_type": "execute_result"
    }
   ],
   "source": [
    "x2[:3, ::2] # all rows, every other column"
   ]
  },
  {
   "cell_type": "code",
   "execution_count": 36,
   "id": "d723000a-b663-4cd5-86a2-a9562c986bf5",
   "metadata": {},
   "outputs": [
    {
     "data": {
      "text/plain": [
       "array([[1, 0, 5, 5],\n",
       "       [7, 3, 4, 8],\n",
       "       [4, 4, 3, 4]])"
      ]
     },
     "execution_count": 36,
     "metadata": {},
     "output_type": "execute_result"
    }
   ],
   "source": [
    "x2[::-1, ::-1] # reverse array\n"
   ]
  },
  {
   "cell_type": "code",
   "execution_count": 37,
   "id": "6f51fc04-3de0-49d2-8ddc-576ed4ae90a9",
   "metadata": {},
   "outputs": [
    {
     "name": "stdout",
     "output_type": "stream",
     "text": [
      "[4 8 5]\n"
     ]
    }
   ],
   "source": [
    "print(x2[:, 0]) # first column of x2"
   ]
  },
  {
   "cell_type": "code",
   "execution_count": 38,
   "id": "7de2edbc-7a1f-4252-ba85-fec3e4188084",
   "metadata": {},
   "outputs": [
    {
     "name": "stdout",
     "output_type": "stream",
     "text": [
      "[4 3 4 4]\n"
     ]
    }
   ],
   "source": [
    " print(x2[0, :]) # first row of x2"
   ]
  },
  {
   "cell_type": "markdown",
   "id": "482272dc-309b-45b7-a006-2db716ab51d1",
   "metadata": {},
   "source": [
    "## iteration over array"
   ]
  },
  {
   "cell_type": "code",
   "execution_count": 39,
   "id": "b244342c-40a2-4ca8-be7b-d8f622fd033e",
   "metadata": {},
   "outputs": [
    {
     "data": {
      "text/plain": [
       "array([[ 0,  5, 10],\n",
       "       [15, 20, 25],\n",
       "       [30, 35, 40]])"
      ]
     },
     "execution_count": 39,
     "metadata": {},
     "output_type": "execute_result"
    }
   ],
   "source": [
    "a=np.arange(0,45,5)\n",
    "a=a.reshape(3,3)\n",
    "a"
   ]
  },
  {
   "cell_type": "code",
   "execution_count": 40,
   "id": "fa805696-b7a2-4279-8c20-2f288f3cc4c7",
   "metadata": {},
   "outputs": [
    {
     "name": "stdout",
     "output_type": "stream",
     "text": [
      "0\n",
      "5\n",
      "10\n",
      "15\n",
      "20\n",
      "25\n",
      "30\n",
      "35\n",
      "40\n"
     ]
    }
   ],
   "source": [
    "for x in np.nditer(a):\n",
    "    print(x)"
   ]
  },
  {
   "cell_type": "markdown",
   "id": "1619c1d1-995b-4e2f-b618-99d4dd06dc86",
   "metadata": {},
   "source": [
    "## Joining arrays "
   ]
  },
  {
   "cell_type": "code",
   "execution_count": 41,
   "id": "6858e745-b098-4ab2-95e2-e21d53f6b556",
   "metadata": {},
   "outputs": [
    {
     "name": "stdout",
     "output_type": "stream",
     "text": [
      "first array\n",
      "[[1 2]\n",
      " [3 4]]\n",
      "second array\n",
      "[[5 6]\n",
      " [7 8]]\n",
      "\n",
      "\n",
      " Jion the two array axis=0\n",
      "[[1 2]\n",
      " [3 4]\n",
      " [5 6]\n",
      " [7 8]]\n",
      "\n",
      "\n",
      " Jion the two array axis=0\n",
      "[[1 2 5 6]\n",
      " [3 4 7 8]]\n"
     ]
    }
   ],
   "source": [
    "# shape have to match \n",
    "a=np.array([[1,2],[3,4]])\n",
    "print(\"first array\")\n",
    "print(a)\n",
    "b=np.array([[5,6],[7,8]])\n",
    "print(\"second array\")\n",
    "print(b)\n",
    "print(\"\\n\")\n",
    "print(\" Jion the two array axis=0\")\n",
    "print(np.concatenate((a,b),axis=0))\n",
    "print(\"\\n\")\n",
    "print(\" Jion the two array axis=0\")\n",
    "print(np.concatenate((a,b),axis=1))"
   ]
  },
  {
   "cell_type": "code",
   "execution_count": 42,
   "id": "846cfeb2-a16d-40dc-a64b-08859b8c8a17",
   "metadata": {},
   "outputs": [
    {
     "data": {
      "text/plain": [
       "array([[1, 2, 3],\n",
       "       [3, 2, 1]])"
      ]
     },
     "execution_count": 42,
     "metadata": {},
     "output_type": "execute_result"
    }
   ],
   "source": [
    " x = np.array([1, 2, 3])\n",
    " y = np.array([3, 2, 1])\n",
    " ### vertically stack the arrays\n",
    " np.vstack([x, y])\n"
   ]
  },
  {
   "cell_type": "code",
   "execution_count": 43,
   "id": "a6c2b440-1b45-4055-aba4-59eaa438d2b2",
   "metadata": {},
   "outputs": [
    {
     "data": {
      "text/plain": [
       "array([1, 2, 3, 3, 2, 1])"
      ]
     },
     "execution_count": 43,
     "metadata": {},
     "output_type": "execute_result"
    }
   ],
   "source": [
    " # horizontally stack the arrays\n",
    " np.hstack([x, y])\n"
   ]
  },
  {
   "cell_type": "markdown",
   "id": "c54feb30-a393-4682-8784-b89c28a18612",
   "metadata": {},
   "source": [
    "## Splitting the array"
   ]
  },
  {
   "cell_type": "code",
   "execution_count": 44,
   "id": "a8e7e41b-4328-44d5-9479-19e0c938154e",
   "metadata": {},
   "outputs": [
    {
     "name": "stdout",
     "output_type": "stream",
     "text": [
      "[0 1 2 3 4 5 6 7 8]\n"
     ]
    },
    {
     "data": {
      "text/plain": [
       "[array([0, 1, 2]), array([3, 4, 5]), array([6, 7, 8])]"
      ]
     },
     "execution_count": 44,
     "metadata": {},
     "output_type": "execute_result"
    }
   ],
   "source": [
    "a=np.arange(9)\n",
    "print(a)\n",
    "np.split(a,3)"
   ]
  },
  {
   "cell_type": "code",
   "execution_count": 45,
   "id": "c2678326-eb02-4cdd-bb8c-c5fbc77dc35d",
   "metadata": {},
   "outputs": [
    {
     "data": {
      "text/plain": [
       "[array([0, 1, 2]), array([3, 4, 5]), array([6, 7, 8])]"
      ]
     },
     "execution_count": 45,
     "metadata": {},
     "output_type": "execute_result"
    }
   ],
   "source": [
    "np.split(a,[3,6]) # split at index 3 and 6 "
   ]
  },
  {
   "cell_type": "markdown",
   "id": "4723dea2-44e5-481f-a012-4eaaded52d7d",
   "metadata": {},
   "source": [
    "## Resizing the array"
   ]
  },
  {
   "cell_type": "code",
   "execution_count": 46,
   "id": "babf8f86-f7b7-4d1d-b62a-8ceceef690b7",
   "metadata": {},
   "outputs": [
    {
     "name": "stdout",
     "output_type": "stream",
     "text": [
      "[[1 2 3]\n",
      " [4 5 6]]\n",
      "(2, 3)\n",
      "\n",
      "\n",
      "[[1 2]\n",
      " [3 4]\n",
      " [5 6]]\n",
      "(3, 2)\n"
     ]
    }
   ],
   "source": [
    "a=np.array([[1,2,3],[4,5,6]])\n",
    "print(a)\n",
    "print(a.shape)\n",
    "print(\"\\n\")\n",
    "b=np.resize(a,(3,2))\n",
    "print(b)\n",
    "print(b.shape)"
   ]
  },
  {
   "cell_type": "markdown",
   "id": "b16bb34d-3ea0-44f4-a134-eec8e2dff23a",
   "metadata": {},
   "source": [
    "## graph\n",
    "#### histogram"
   ]
  },
  {
   "cell_type": "code",
   "execution_count": 47,
   "id": "c562cc44-9b41-44a2-823d-c643e39ec9c5",
   "metadata": {},
   "outputs": [
    {
     "data": {
      "image/png": "[encoded data removed]",
      "text/plain": [
       "<Figure size 640x480 with 1 Axes>"
      ]
     },
     "metadata": {},
     "output_type": "display_data"
    }
   ],
   "source": [
    "from matplotlib import pyplot as plt\n",
    "import seaborn\n",
    "a=np.array([20,87,45,24,67,64,23,57,89,36,28,35,79])\n",
    "plt.hist(a,bins=[20,40,60,80,100])\n",
    "plt.title(\"histogram example\")\n",
    "plt.show()"
   ]
  },
  {
   "cell_type": "markdown",
   "id": "e673c0c6-9f80-44a7-b52f-208db758146a",
   "metadata": {},
   "source": [
    "## other useful functions in numpy"
   ]
  },
  {
   "cell_type": "code",
   "execution_count": 48,
   "id": "c031c4d7-e7b8-4732-96ae-357f3b413dde",
   "metadata": {},
   "outputs": [
    {
     "name": "stdout",
     "output_type": "stream",
     "text": [
      "[1.         1.22222222 1.44444444 1.66666667 1.88888889 2.11111111\n",
      " 2.33333333 2.55555556 2.77777778 3.        ]\n"
     ]
    }
   ],
   "source": [
    "# linspace\n",
    "a=np.linspace(1,3,10) # it generate numbers between 1 and 3, consisting of 10 elemennt\n",
    "print(a)"
   ]
  },
  {
   "cell_type": "code",
   "execution_count": 49,
   "id": "bf7de23e-cea2-41de-81a2-e7cc9e899382",
   "metadata": {
    "scrolled": true
   },
   "outputs": [
    {
     "name": "stdout",
     "output_type": "stream",
     "text": [
      "[ 6 12]\n"
     ]
    }
   ],
   "source": [
    "# sum and axis\n",
    "a= np.array([(1,2,3),(3,4,5)])\n",
    "print(a.sum(axis=1))"
   ]
  },
  {
   "cell_type": "code",
   "execution_count": 50,
   "id": "09d24e82-4c25-4edc-ae23-2265173a9ba4",
   "metadata": {},
   "outputs": [
    {
     "name": "stdout",
     "output_type": "stream",
     "text": [
      "[[1.         1.41421356 1.73205081]\n",
      " [1.73205081 2.         2.23606798]]\n",
      "1.2909944487358056\n",
      "[[0.         0.30103    0.47712125]\n",
      " [0.47712125 0.60205999 0.69897   ]]\n"
     ]
    }
   ],
   "source": [
    "a= np.array([(1,2,3),(3,4,5)])\n",
    "print(np.sqrt(a)) # sqaure root\n",
    "print(np.std(a)) # standard deviation\n",
    "print(np.log10(a)) # log"
   ]
  },
  {
   "cell_type": "code",
   "execution_count": 51,
   "id": "959aa9b5-7276-45c8-b4ce-2b8fcf4aa474",
   "metadata": {},
   "outputs": [
    {
     "data": {
      "text/plain": [
       "array([1, 2, 3, 4, 5])"
      ]
     },
     "execution_count": 51,
     "metadata": {},
     "output_type": "execute_result"
    }
   ],
   "source": [
    " x = np.array([2, 1, 4, 3, 5])\n",
    " np.sort(x)"
   ]
  },
  {
   "cell_type": "code",
   "execution_count": 52,
   "id": "701b66e8-28ee-42a9-b811-6cb915ed8ee5",
   "metadata": {
    "scrolled": true
   },
   "outputs": [
    {
     "data": {
      "image/png": "[encoded data removed]",
      "text/plain": [
       "<Figure size 640x480 with 1 Axes>"
      ]
     },
     "metadata": {},
     "output_type": "display_data"
    }
   ],
   "source": [
    "from matplotlib import pyplot as plt\n",
    "import seaborn;seaborn.set()\n",
    "x=np.arange(0,3*np.pi,0.1)\n",
    "y=np.sin(x)\n",
    "plt.plot(x,y)\n",
    "plt.show()"
   ]
  },
  {
   "cell_type": "code",
   "execution_count": 53,
   "id": "51e40deb-3796-43cd-a9be-ac952cb32e13",
   "metadata": {},
   "outputs": [
    {
     "name": "stdout",
     "output_type": "stream",
     "text": [
      "[[0 1 0 1 0 1]\n",
      " [1 0 1 0 1 0]\n",
      " [0 1 0 1 0 1]\n",
      " [1 0 1 0 1 0]\n",
      " [0 1 0 1 0 1]\n",
      " [1 0 1 0 1 0]]\n"
     ]
    }
   ],
   "source": [
    "b=np.zeros((6,6),dtype=int)\n",
    "b[1::2,::2]=1\n",
    "b[::2,1::2]=1\n",
    "print(b)"
   ]
  },
  {
   "cell_type": "code",
   "execution_count": 54,
   "id": "2b08e921-53ab-4652-ac2a-ead3d262701a",
   "metadata": {},
   "outputs": [
    {
     "data": {
      "text/plain": [
       "array([[0.77834548, 0.94957105, 0.66252687, 0.01357164, 0.6228461 ,\n",
       "        0.67365963, 0.971945  , 0.87819347, 0.50962438, 0.05571469],\n",
       "       [0.45115921, 0.01998767, 0.44171092, 0.97958673, 0.35944446,\n",
       "        0.48089353, 0.68866118, 0.88047589, 0.91823547, 0.21682214],\n",
       "       [0.56518887, 0.86510256, 0.50896896, 0.91672295, 0.92115761,\n",
       "        0.08311249, 0.27771856, 0.0093567 , 0.84234208, 0.64717414],\n",
       "       [0.84138612, 0.26473016, 0.39782075, 0.55282148, 0.16494046,\n",
       "        0.36980809, 0.14644176, 0.56961841, 0.70373728, 0.28847644],\n",
       "       [0.43328806, 0.75610669, 0.39609828, 0.89603839, 0.63892108,\n",
       "        0.89155444, 0.68005557, 0.44919774, 0.97857093, 0.11620191],\n",
       "       [0.7670237 , 0.41182014, 0.67543908, 0.24979628, 0.31321833,\n",
       "        0.96541622, 0.58846509, 0.65966841, 0.53320625, 0.23053302],\n",
       "       [0.39486929, 0.61880856, 0.47486752, 0.47013219, 0.71607453,\n",
       "        0.287991  , 0.38346223, 0.74916984, 0.87845219, 0.10286336],\n",
       "       [0.09237389, 0.35404666, 0.55181626, 0.03362509, 0.96896177,\n",
       "        0.32099724, 0.22126269, 0.1412639 , 0.09725993, 0.98404224],\n",
       "       [0.26034093, 0.53702252, 0.44792617, 0.09956909, 0.35231166,\n",
       "        0.46924917, 0.84114013, 0.90464774, 0.03755938, 0.50831545],\n",
       "       [0.16684751, 0.77905102, 0.8649333 , 0.41139672, 0.13997259,\n",
       "        0.03322239, 0.98257496, 0.37329075, 0.42007537, 0.05058812]])"
      ]
     },
     "execution_count": 54,
     "metadata": {},
     "output_type": "execute_result"
    }
   ],
   "source": [
    "z=np.random.rand(10,10)\n",
    "\n",
    "z"
   ]
  },
  {
   "cell_type": "code",
   "execution_count": 55,
   "id": "194f1230-da5d-4193-ba3f-c5a6f1757554",
   "metadata": {},
   "outputs": [
    {
     "name": "stdout",
     "output_type": "stream",
     "text": [
      "Mean height:  179.73809523809524\n",
      "Standard deviation: 6.931843442745892\n",
      "Minimum height:  163\n",
      "Maximum height:  193\n"
     ]
    }
   ],
   "source": [
    "heights=np.array([189, 170,189 ,163, 183, 171, 185, 168, 173, 183, 173 ,173, 175, 178 ,183 ,193, 178 ,173,\n",
    " 174, 183, 183, 168 ,170, 178, 182, 180, 183, 178 ,182, 188, 175, 179, 183, 193, 182 ,183,\n",
    " 177, 185, 188, 188, 182, 185])\n",
    "print(\"Mean height: \", heights.mean())\n",
    "print(\"Standard deviation:\", heights.std())\n",
    "print(\"Minimum height: \", heights.min())\n",
    "print(\"Maximum height: \", heights.max())\n",
    "\n"
   ]
  },
  {
   "cell_type": "code",
   "execution_count": 56,
   "id": "fe06a787-c316-48bd-9767-d822f84a6d8b",
   "metadata": {},
   "outputs": [
    {
     "name": "stdout",
     "output_type": "stream",
     "text": [
      "25th percentile:  174.25\n",
      "Median:  182.0\n",
      "75th percentile:  183.0\n"
     ]
    }
   ],
   "source": [
    " print(\"25th percentile: \", np.percentile(heights, 25))\n",
    " print(\"Median: \", np.median(heights))\n",
    " print(\"75th percentile: \", np.percentile(heights, 75))"
   ]
  },
  {
   "cell_type": "code",
   "execution_count": 57,
   "id": "7765f856-49aa-4b98-b5bb-b26070f5e4b2",
   "metadata": {},
   "outputs": [
    {
     "data": {
      "image/png": "[encoded data removed]",
      "text/plain": [
       "<Figure size 640x480 with 1 Axes>"
      ]
     },
     "metadata": {},
     "output_type": "display_data"
    }
   ],
   "source": [
    "import matplotlib.pyplot as plt\n",
    "import seaborn; seaborn.set() # set plot style\n",
    "plt.hist(heights)\n",
    "plt.title(\"height distribution\")\n",
    "plt.xlabel('height(cm)')\n",
    "plt.ylabel('number')\n",
    "%matplotlib inline"
   ]
  },
  {
   "cell_type": "code",
   "execution_count": 58,
   "id": "d8dee22f-a36a-43ec-b783-de707ba9801b",
   "metadata": {
    "scrolled": true
   },
   "outputs": [
    {
     "data": {
      "image/png": "[encoded data removed]",
      "text/plain": [
       "<Figure size 640x480 with 1 Axes>"
      ]
     },
     "metadata": {},
     "output_type": "display_data"
    }
   ],
   "source": [
    "X = np.random.random(10).reshape(5,2)\n",
    "%matplotlib inline\n",
    "import matplotlib.pyplot as plt\n",
    "import seaborn; seaborn.set() # Plot styling\n",
    "plt.scatter(X[:, 0], X[:, 1], s=50);\n"
   ]
  }
 ],
 "metadata": {
  "kernelspec": {
   "display_name": "Python 3 (ipykernel)",
   "language": "python",
   "name": "python3"
  },
  "language_info": {
   "codemirror_mode": {
    "name": "ipython",
    "version": 3
   },
   "file_extension": ".py",
   "mimetype": "text/x-python",
   "name": "python",
   "nbconvert_exporter": "python",
   "pygments_lexer": "ipython3",
   "version": "3.12.4"
  }
 },
 "nbformat": 4,
 "nbformat_minor": 5
}
